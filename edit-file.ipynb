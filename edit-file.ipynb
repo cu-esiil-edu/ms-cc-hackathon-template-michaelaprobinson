{
 "cells": [
  {
   "cell_type": "code",
   "execution_count": null,
   "id": "d5319d3d",
   "metadata": {},
   "outputs": [
    {
     "name": "stdout",
     "output_type": "stream",
     "text": [
      "\n",
      " Estimated Annual Carbon Emissions Breakdown:\n",
      "  Car:          0.4 metric tons CO₂e\n",
      "  Flights:       0.48 metric tons CO₂e\n",
      "  Electricity:   0.21 metric tons CO₂e\n",
      "  Natural Gas:   2.12 metric tons CO₂e\n",
      "  Water Usage:   1.25 metric tons CO₂e\n",
      "  ChatGPT Use: 0.005 metric tons CO₂e\n",
      "  Diet:          1.5 metric tons CO₂e\n",
      "\n",
      "Estimated annual carbon emissions:\n",
      "5.97 metric tons CO₂e\n"
     ]
    }
   ],
   "source": [
    "# --- User Inputs ---\n",
    "miles_driven = float(input(\"Estimate how many miles you drive in a year: \"))\n",
    "miles_flew = float(input(\"Estimate how many miles you fly in a year: \"))\n",
    "kwh_used = float(input(\"Estimate the total kWh of electricity you use per year: \"))\n",
    "therms_used = float(input(\"Estimate the total therms of natural gas you use per year: \"))\n",
    "water_usage = float(input(\"Estimate how many minutes you usually spend in the shower per day: \"))\n",
    "chatgpt_days = float(input(\"Estimate how many days in a year you use ChatGPT: \"))\n",
    "your_diet = float(input(\n",
    "\"Enter your diet: 1.5 for vegan, 1.7 for vegetarian, 2.5 for omnivore, or 3.3 for high-meat diet: \"\n",
    "))\n",
    "\n",
    "# --- Emission Factors (in metric tons where needed) ---\n",
    "car_emissions = miles_driven * 0.000404 # tons CO2 per mile \n",
    "flight_emissions = miles_flew * 0.00016 # tons CO2 per mile\n",
    "natural_gas_emissions = therms_used * 0.0053 # tons CO2 per therms\n",
    "kwh_emissions = kwh_used * 0.000417 # tons CO2 per kWh\n",
    "chatgpt_emissions = chatgpt_days * 0.25 * 0.000417 \n",
    "# 15 min/day @ 0.25 kWh → tCO2\n",
    "water_emissions = water_usage * 2.1 * 365 * 0.0000816 \n",
    "# gal/day * 365 → kWh → tCO2\n",
    "\n",
    "# --- Total Emissions ---\n",
    "total_emissions = (\n",
    "car_emissions +\n",
    "flight_emissions +\n",
    "natural_gas_emissions +\n",
    "kwh_emissions +\n",
    "chatgpt_emissions +\n",
    "water_emissions +\n",
    "your_diet # Already in metric tons\n",
    ")\n",
    "\n",
    "categories = {\n",
    "    \"Electricity\": kwh_emissions ,\n",
    "    \"Natural Gas\": natural_gas_emissions,\n",
    "    \"Driving\": car_emissions ,\n",
    "    \"Flights\": flight_emissions,\n",
    "    \"Diet\": your_diet,\n",
    "    \"ChatGPT\" : chatgpt_emissions,\n",
    "    \"Water\": water_emissions\n",
    "}\n",
    "highest = max(categories, key=categories.get)\n",
    "\n",
    "# --- Output ---\n",
    "print(\"\\n Estimated Annual Carbon Emissions Breakdown:\")\n",
    "print(f\"  Car:          {round(car_emissions, 2)} metric tons CO₂e\")\n",
    "print(f\"  Flights:       {round(flight_emissions, 2)} metric tons CO₂e\")\n",
    "print(f\"  Electricity:   {round(kwh_emissions, 2)} metric tons CO₂e\")\n",
    "print(f\"  Natural Gas:   {round(natural_gas_emissions, 2)} metric tons CO₂e\")\n",
    "print(f\"  Water Usage:   {round(water_emissions, 2)} metric tons CO₂e\")\n",
    "print(f\"  ChatGPT Use: {round(chatgpt_emissions, 3)} metric tons CO₂e\")\n",
    "print(f\"  Diet:          {round(your_diet, 2)} metric tons CO₂e\")\n",
    "print(\"\\nEstimated annual carbon emissions:\")\n",
    "print(f\"{round(total_emissions, 2)} metric tons CO₂e\")\n",
    "print(\"The highest emission production is from:\", highest)\n",
    "\n",
    "if highest == \"Electricity\":\n",
    "    print(\"Try to be mindful of electricity use in your day to day routine. If possible, use cold water for laundry or unplug your electronics.\")\n",
    "    print(\"Carbon emissions if \")"
   ]
  }
 ],
 "metadata": {
  "kernelspec": {
   "display_name": "base",
   "language": "python",
   "name": "python3"
  },
  "language_info": {
   "codemirror_mode": {
    "name": "ipython",
    "version": 3
   },
   "file_extension": ".py",
   "mimetype": "text/x-python",
   "name": "python",
   "nbconvert_exporter": "python",
   "pygments_lexer": "ipython3",
   "version": "3.11.6"
  }
 },
 "nbformat": 4,
 "nbformat_minor": 5
}
