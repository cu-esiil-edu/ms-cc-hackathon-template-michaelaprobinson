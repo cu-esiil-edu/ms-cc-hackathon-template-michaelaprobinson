{
 "cells": [
  {
   "cell_type": "markdown",
   "id": "5120feb1",
   "metadata": {},
   "source": [
    "# 🌱 Intro to Python: Carbon Footprint Edition\n",
    "\n",
    "Welcome to your first Python lesson! In this notebook, we’ll explore Python basics while thinking about real-world data related to **carbon footprints** 🌍💨.\"\n",
    "\n",
    "***"
   ]
  },
  {
   "cell_type": "markdown",
   "id": "1e5d0c6f",
   "metadata": {},
   "source": [
    "## 🔤 Python Variables\n",
    "Variables store information. Let’s store the average carbon footprint (in metric tons of CO₂ per year) for individuals in different countries."
   ]
  },
  {
   "cell_type": "code",
   "execution_count": 3,
   "id": "4ddc5b6e",
   "metadata": {},
   "outputs": [
    {
     "name": "stdout",
     "output_type": "stream",
     "text": [
      "USA footprint: 16.5\n",
      "Canada footprint: 14.0\n",
      "Mexico footprint: 3.7\n"
     ]
    }
   ],
   "source": [
    "# Define variable names for average individual CO2 emissions (in tons)\n",
    "usa_footprint = 16.5\n",
    "canada_footprint = 14.0\n",
    "mexico_footprint = 3.7\n",
    "\n",
    "# Use print() statements to report values\n",
    "print(\"USA footprint:\", usa_footprint)\n",
    "print(\"Canada footprint:\", canada_footprint)\n",
    "print(\"Mexico footprint:\", mexico_footprint)\n"
   ]
  },
  {
   "cell_type": "markdown",
   "id": "7a05f34d",
   "metadata": {},
   "source": [
    "## ➕ Python Operators\n",
    "We can do math with Python. Let’s calculate the difference between footprints."
   ]
  },
  {
   "cell_type": "code",
   "execution_count": 10,
   "id": "6afc7a13",
   "metadata": {},
   "outputs": [
    {
     "name": "stdout",
     "output_type": "stream",
     "text": [
      "Difference between usa and canda is  2.5\n",
      "Difference between usa and mexio is  12.8\n"
     ]
    }
   ],
   "source": [
    "footprint_diff = usa_footprint - canada_footprint\n",
    "print(\"Difference between usa and canda is \", footprint_diff)\n",
    "print(\"Difference between usa and mexio is \", usa_footprint-mexico_footprint)"
   ]
  },
  {
   "cell_type": "markdown",
   "id": "4ca45818",
   "metadata": {},
   "source": [
    "You can use:\n",
    "\n",
    "+ `+` for addition\n",
    "\n",
    "+ `-` for subtraction\n",
    "\n",
    "+ `*` for multiplication\n",
    "\n",
    "+ `/` for division\n",
    "\n",
    "Let’s calculate how much CO₂ 5 people in the U.S. emit:"
   ]
  },
  {
   "cell_type": "code",
   "execution_count": 8,
   "id": "a1a239f7",
   "metadata": {},
   "outputs": [
    {
     "name": "stdout",
     "output_type": "stream",
     "text": [
      "5 people produce this much CO2 in the U.S: 82.5\n"
     ]
    }
   ],
   "source": [
    "print(\"5 people produce this much CO2 in the U.S:\", usa_footprint*5)"
   ]
  },
  {
   "cell_type": "markdown",
   "id": "3a38ba31",
   "metadata": {},
   "source": [
    "## 📋 Lists in Python\n",
    "A list lets us store multiple values in one place."
   ]
  },
  {
   "cell_type": "code",
   "execution_count": 16,
   "id": "cf3b2552",
   "metadata": {},
   "outputs": [],
   "source": [
    "footprint_list = [usa_footprint, canada_footprint, mexico_footprint]\n",
    "countries = [\"USA\", \"Canada\", \"Mexico\"]"
   ]
  },
  {
   "cell_type": "markdown",
   "id": "d399b09e",
   "metadata": {},
   "source": [
    "We can get specific values from a list using indexing:"
   ]
  },
  {
   "cell_type": "code",
   "execution_count": 12,
   "id": "466dfe58",
   "metadata": {},
   "outputs": [
    {
     "name": "stdout",
     "output_type": "stream",
     "text": [
      "16.5\n"
     ]
    }
   ],
   "source": [
    "print(footprint_list[0])"
   ]
  },
  {
   "cell_type": "markdown",
   "id": "d33368e7",
   "metadata": {},
   "source": [
    "## 🔁 Loops\n",
    "Let’s loop through our list and print out each country’s footprint."
   ]
  },
  {
   "cell_type": "code",
   "execution_count": 17,
   "id": "42e0182a",
   "metadata": {},
   "outputs": [
    {
     "name": "stdout",
     "output_type": "stream",
     "text": [
      "16.5\n",
      "14.0\n",
      "3.7\n",
      "USA\n",
      "Canada\n",
      "Mexico\n"
     ]
    }
   ],
   "source": [
    "for item in footprint_list:\n",
    "    print(item)\n",
    "for country in countries:\n",
    "    print(country)"
   ]
  },
  {
   "cell_type": "code",
   "execution_count": null,
   "id": "65d49068",
   "metadata": {},
   "outputs": [],
   "source": []
  },
  {
   "cell_type": "markdown",
   "id": "34fa31ef",
   "metadata": {},
   "source": [
    "# 🧮 Functions\n",
    "Functions let us reuse code. Let’s write one that estimates a total footprint based on per-person values."
   ]
  },
  {
   "cell_type": "code",
   "execution_count": null,
   "id": "8fdd196f",
   "metadata": {},
   "outputs": [
    {
     "name": "stdout",
     "output_type": "stream",
     "text": [
      "82.5\n",
      "28.0\n"
     ]
    }
   ],
   "source": [
    "def footprint_calculator(per_person, number):\n",
    "    total = per_person*number\n",
    "    return total\n",
    "print(footprint_calculator(usa_footprint, 5))\n",
    "print(footprint_calculator(canada_footprint, 2))"
   ]
  },
  {
   "cell_type": "markdown",
   "id": "89c248f6",
   "metadata": {},
   "source": [
    "# Plot of footprints\n",
    "Code for plotting footprints"
   ]
  },
  {
   "cell_type": "code",
   "execution_count": 23,
   "id": "695b328f",
   "metadata": {},
   "outputs": [
    {
     "data": {
      "image/png": "[encoded data removed]",
      "text/plain": [
       "<Figure size 800x500 with 1 Axes>"
      ]
     },
     "metadata": {},
     "output_type": "display_data"
    }
   ],
   "source": [
    "import matplotlib.pyplot as plt\n",
    "plt.figure(figsize=(8,5))\n",
    "plt.bar(countries, footprint_list, color = [\"green\", \"orange\", \"blue\"])\n",
    "plt.title(\"average carbon footprint per person\")\n",
    "plt.xlabel(\"Country\")\n",
    "plt.ylabel(\"Metric Tons of Carbon Dioxide Per Year\")\n",
    "plt.show()\n"
   ]
  },
  {
   "cell_type": "markdown",
   "id": "90cf2aea",
   "metadata": {},
   "source": [
    "# ✅ Challenge: Try it yourself!\n",
    "1.) Add another country to the list with its carbon footprint.\n",
    "\n",
    "2.) Write a function that tells you whether a country's footprint is low, medium, or high.\n",
    "\n",
    "3.) Use a loop to print each country’s status using your new function"
   ]
  },
  {
   "cell_type": "code",
   "execution_count": null,
   "id": "4454f01b",
   "metadata": {},
   "outputs": [
    {
     "name": "stdout",
     "output_type": "stream",
     "text": [
      "[16.5, 14.0, 3.7, 1.9]\n"
     ]
    }
   ],
   "source": [
    "india_footprint = 1.9\n",
    "footprint_list.append(india_footprint)\n",
    "print(footprint_list)\n",
    "\n",
    "def footprint_calculator():\n",
    "    "
   ]
  },
  {
   "cell_type": "code",
   "execution_count": null,
   "id": "2dece208",
   "metadata": {},
   "outputs": [],
   "source": []
  }
 ],
 "metadata": {
  "kernelspec": {
   "display_name": "base",
   "language": "python",
   "name": "python3"
  },
  "language_info": {
   "codemirror_mode": {
    "name": "ipython",
    "version": 3
   },
   "file_extension": ".py",
   "mimetype": "text/x-python",
   "name": "python",
   "nbconvert_exporter": "python",
   "pygments_lexer": "ipython3",
   "version": "3.11.6"
  }
 },
 "nbformat": 4,
 "nbformat_minor": 5
}
